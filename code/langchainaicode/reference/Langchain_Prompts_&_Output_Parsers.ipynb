{
  "cells": [
    {
      "cell_type": "code",
      "execution_count": 1,
      "metadata": {
        "colab": {
          "base_uri": "https://localhost:8080/"
        },
        "id": "e4wqEHaCvVJC",
        "outputId": "da44f917-a2ee-45e8-cd95-9534c3eec447"
      },
      "outputs": [
        {
          "output_type": "stream",
          "name": "stdout",
          "text": [
            "Requirement already satisfied: langchain-openai in /usr/local/lib/python3.10/dist-packages (0.0.6)\n",
            "Requirement already satisfied: langchain in /usr/local/lib/python3.10/dist-packages (0.1.8)\n",
            "Requirement already satisfied: langchain-core<0.2,>=0.1.16 in /usr/local/lib/python3.10/dist-packages (from langchain-openai) (0.1.25)\n",
            "Requirement already satisfied: numpy<2,>=1 in /usr/local/lib/python3.10/dist-packages (from langchain-openai) (1.25.2)\n",
            "Requirement already satisfied: openai<2.0.0,>=1.10.0 in /usr/local/lib/python3.10/dist-packages (from langchain-openai) (1.12.0)\n",
            "Requirement already satisfied: tiktoken<1,>=0.5.2 in /usr/local/lib/python3.10/dist-packages (from langchain-openai) (0.6.0)\n",
            "Requirement already satisfied: PyYAML>=5.3 in /usr/local/lib/python3.10/dist-packages (from langchain) (6.0.1)\n",
            "Requirement already satisfied: SQLAlchemy<3,>=1.4 in /usr/local/lib/python3.10/dist-packages (from langchain) (2.0.27)\n",
            "Requirement already satisfied: aiohttp<4.0.0,>=3.8.3 in /usr/local/lib/python3.10/dist-packages (from langchain) (3.9.3)\n",
            "Requirement already satisfied: async-timeout<5.0.0,>=4.0.0 in /usr/local/lib/python3.10/dist-packages (from langchain) (4.0.3)\n",
            "Requirement already satisfied: dataclasses-json<0.7,>=0.5.7 in /usr/local/lib/python3.10/dist-packages (from langchain) (0.6.4)\n",
            "Requirement already satisfied: jsonpatch<2.0,>=1.33 in /usr/local/lib/python3.10/dist-packages (from langchain) (1.33)\n",
            "Requirement already satisfied: langchain-community<0.1,>=0.0.21 in /usr/local/lib/python3.10/dist-packages (from langchain) (0.0.21)\n",
            "Requirement already satisfied: langsmith<0.2.0,>=0.1.0 in /usr/local/lib/python3.10/dist-packages (from langchain) (0.1.5)\n",
            "Requirement already satisfied: pydantic<3,>=1 in /usr/local/lib/python3.10/dist-packages (from langchain) (2.6.1)\n",
            "Requirement already satisfied: requests<3,>=2 in /usr/local/lib/python3.10/dist-packages (from langchain) (2.31.0)\n",
            "Requirement already satisfied: tenacity<9.0.0,>=8.1.0 in /usr/local/lib/python3.10/dist-packages (from langchain) (8.2.3)\n",
            "Requirement already satisfied: aiosignal>=1.1.2 in /usr/local/lib/python3.10/dist-packages (from aiohttp<4.0.0,>=3.8.3->langchain) (1.3.1)\n",
            "Requirement already satisfied: attrs>=17.3.0 in /usr/local/lib/python3.10/dist-packages (from aiohttp<4.0.0,>=3.8.3->langchain) (23.2.0)\n",
            "Requirement already satisfied: frozenlist>=1.1.1 in /usr/local/lib/python3.10/dist-packages (from aiohttp<4.0.0,>=3.8.3->langchain) (1.4.1)\n",
            "Requirement already satisfied: multidict<7.0,>=4.5 in /usr/local/lib/python3.10/dist-packages (from aiohttp<4.0.0,>=3.8.3->langchain) (6.0.5)\n",
            "Requirement already satisfied: yarl<2.0,>=1.0 in /usr/local/lib/python3.10/dist-packages (from aiohttp<4.0.0,>=3.8.3->langchain) (1.9.4)\n",
            "Requirement already satisfied: marshmallow<4.0.0,>=3.18.0 in /usr/local/lib/python3.10/dist-packages (from dataclasses-json<0.7,>=0.5.7->langchain) (3.20.2)\n",
            "Requirement already satisfied: typing-inspect<1,>=0.4.0 in /usr/local/lib/python3.10/dist-packages (from dataclasses-json<0.7,>=0.5.7->langchain) (0.9.0)\n",
            "Requirement already satisfied: jsonpointer>=1.9 in /usr/local/lib/python3.10/dist-packages (from jsonpatch<2.0,>=1.33->langchain) (2.4)\n",
            "Requirement already satisfied: anyio<5,>=3 in /usr/local/lib/python3.10/dist-packages (from langchain-core<0.2,>=0.1.16->langchain-openai) (3.7.1)\n",
            "Requirement already satisfied: packaging<24.0,>=23.2 in /usr/local/lib/python3.10/dist-packages (from langchain-core<0.2,>=0.1.16->langchain-openai) (23.2)\n",
            "Requirement already satisfied: distro<2,>=1.7.0 in /usr/lib/python3/dist-packages (from openai<2.0.0,>=1.10.0->langchain-openai) (1.7.0)\n",
            "Requirement already satisfied: httpx<1,>=0.23.0 in /usr/local/lib/python3.10/dist-packages (from openai<2.0.0,>=1.10.0->langchain-openai) (0.27.0)\n",
            "Requirement already satisfied: sniffio in /usr/local/lib/python3.10/dist-packages (from openai<2.0.0,>=1.10.0->langchain-openai) (1.3.0)\n",
            "Requirement already satisfied: tqdm>4 in /usr/local/lib/python3.10/dist-packages (from openai<2.0.0,>=1.10.0->langchain-openai) (4.66.2)\n",
            "Requirement already satisfied: typing-extensions<5,>=4.7 in /usr/local/lib/python3.10/dist-packages (from openai<2.0.0,>=1.10.0->langchain-openai) (4.9.0)\n",
            "Requirement already satisfied: annotated-types>=0.4.0 in /usr/local/lib/python3.10/dist-packages (from pydantic<3,>=1->langchain) (0.6.0)\n",
            "Requirement already satisfied: pydantic-core==2.16.2 in /usr/local/lib/python3.10/dist-packages (from pydantic<3,>=1->langchain) (2.16.2)\n",
            "Requirement already satisfied: charset-normalizer<4,>=2 in /usr/local/lib/python3.10/dist-packages (from requests<3,>=2->langchain) (3.3.2)\n",
            "Requirement already satisfied: idna<4,>=2.5 in /usr/local/lib/python3.10/dist-packages (from requests<3,>=2->langchain) (3.6)\n",
            "Requirement already satisfied: urllib3<3,>=1.21.1 in /usr/local/lib/python3.10/dist-packages (from requests<3,>=2->langchain) (2.0.7)\n",
            "Requirement already satisfied: certifi>=2017.4.17 in /usr/local/lib/python3.10/dist-packages (from requests<3,>=2->langchain) (2024.2.2)\n",
            "Requirement already satisfied: greenlet!=0.4.17 in /usr/local/lib/python3.10/dist-packages (from SQLAlchemy<3,>=1.4->langchain) (3.0.3)\n",
            "Requirement already satisfied: regex>=2022.1.18 in /usr/local/lib/python3.10/dist-packages (from tiktoken<1,>=0.5.2->langchain-openai) (2023.12.25)\n",
            "Requirement already satisfied: exceptiongroup in /usr/local/lib/python3.10/dist-packages (from anyio<5,>=3->langchain-core<0.2,>=0.1.16->langchain-openai) (1.2.0)\n",
            "Requirement already satisfied: httpcore==1.* in /usr/local/lib/python3.10/dist-packages (from httpx<1,>=0.23.0->openai<2.0.0,>=1.10.0->langchain-openai) (1.0.4)\n",
            "Requirement already satisfied: h11<0.15,>=0.13 in /usr/local/lib/python3.10/dist-packages (from httpcore==1.*->httpx<1,>=0.23.0->openai<2.0.0,>=1.10.0->langchain-openai) (0.14.0)\n",
            "Requirement already satisfied: mypy-extensions>=0.3.0 in /usr/local/lib/python3.10/dist-packages (from typing-inspect<1,>=0.4.0->dataclasses-json<0.7,>=0.5.7->langchain) (1.0.0)\n"
          ]
        }
      ],
      "source": [
        "!pip install langchain-openai langchain\n",
        "\n",
        "import os\n",
        "os.environ[\"OPENAI_API_KEY\"] = \"YOUR API KEY\""
      ]
    },
    {
      "cell_type": "code",
      "execution_count": 2,
      "metadata": {
        "colab": {
          "base_uri": "https://localhost:8080/"
        },
        "id": "EMIZDEjzvZio",
        "outputId": "0c06ee7d-0db2-4093-dfee-8ddce6c38b86"
      },
      "outputs": [
        {
          "output_type": "execute_result",
          "data": {
            "text/plain": [
              "ChatOpenAI(client=<openai.resources.chat.completions.Completions object at 0x7ce12640e350>, async_client=<openai.resources.chat.completions.AsyncCompletions object at 0x7ce12640f7f0>, temperature=0.0, openai_api_key=SecretStr('**********'), openai_proxy='')"
            ]
          },
          "metadata": {},
          "execution_count": 2
        }
      ],
      "source": [
        "from langchain_openai import ChatOpenAI\n",
        "\n",
        "chat = ChatOpenAI(temperature=0.0)\n",
        "chat"
      ]
    },
    {
      "cell_type": "markdown",
      "metadata": {
        "id": "KMNqknZgybum"
      },
      "source": [
        "## Working with a prompt template"
      ]
    },
    {
      "cell_type": "code",
      "execution_count": 3,
      "metadata": {
        "colab": {
          "base_uri": "https://localhost:8080/"
        },
        "id": "rtzWEOYfyYPf",
        "outputId": "c9e888df-8032-468a-96e2-0f182a13f8b3"
      },
      "outputs": [
        {
          "output_type": "execute_result",
          "data": {
            "text/plain": [
              "PromptTemplate(input_variables=['company_description'], template='\\n            Extract the following details from a description of a company:\\n\\n\\n            name: the name of the company\\n            sector: the sector it is in.\\n            valuation: its valuation in dollars $\\n\\n            Format the output as JSON with the following keys:\\n\\n            name\\n            sector\\n            valuation\\n\\n            Company description:\\n\\n            {company_description}\\n\\n            ')"
            ]
          },
          "metadata": {},
          "execution_count": 3
        }
      ],
      "source": [
        "from langchain.prompts import ChatPromptTemplate\n",
        "\n",
        "\n",
        "template = \"\"\"\n",
        "            Extract the following details from a description of a company:\n",
        "\n",
        "\n",
        "            name: the name of the company\n",
        "            sector: the sector it is in.\n",
        "            valuation: its valuation in dollars $\n",
        "\n",
        "            Format the output as JSON with the following keys:\n",
        "\n",
        "            name\n",
        "            sector\n",
        "            valuation\n",
        "\n",
        "            Company description:\n",
        "\n",
        "            {company_description}\n",
        "\n",
        "            \"\"\"\n",
        "prompt_template = ChatPromptTemplate.from_template(template)\n",
        "prompt_template.messages[0].prompt"
      ]
    },
    {
      "cell_type": "code",
      "execution_count": 4,
      "metadata": {
        "colab": {
          "base_uri": "https://localhost:8080/"
        },
        "id": "cyFbmOSvzLp0",
        "outputId": "18a6cdc8-0a03-49d3-8248-78413348f619"
      },
      "outputs": [
        {
          "output_type": "execute_result",
          "data": {
            "text/plain": [
              "['company_description']"
            ]
          },
          "metadata": {},
          "execution_count": 4
        }
      ],
      "source": [
        "prompt_template.messages[0].prompt.input_variables"
      ]
    },
    {
      "cell_type": "code",
      "execution_count": 5,
      "metadata": {
        "colab": {
          "base_uri": "https://localhost:8080/"
        },
        "id": "Hvaz1eDmzQYg",
        "outputId": "dbe76fba-926e-475b-836e-894176b45bfb"
      },
      "outputs": [
        {
          "output_type": "execute_result",
          "data": {
            "text/plain": [
              "[HumanMessage(content=\"\\n            Extract the following details from a description of a company:\\n\\n\\n            name: the name of the company\\n            sector: the sector it is in.\\n            valuation: its valuation in dollars $\\n\\n            Format the output as JSON with the following keys:\\n\\n            name\\n            sector\\n            valuation\\n\\n            Company description:\\n\\n             EcoFusion Technologies is an innovative start-up breaking new grounds in the clean energy sector.\\n                          The company focuses on designing and manufacturing highly efficient fusion energy generators that promote green and sustainable energy.\\n                          Through the fusion of cutting-edge technology and commitment to environmental preservation, EcoFusion Technologies is pushing the boundaries of\\n                          what's possible in the renewable energy landscape.\\n\\n                          Current Valuation: As of our latest funding round, EcoFusion Technologies is valued at $1.2 billion, demonstrating significant investor confidence\\n                          in our future growth prospects.\\n\\n                      \\n\\n            \")]"
            ]
          },
          "metadata": {},
          "execution_count": 5
        }
      ],
      "source": [
        "company_description = \"\"\" EcoFusion Technologies is an innovative start-up breaking new grounds in the clean energy sector.\n",
        "                          The company focuses on designing and manufacturing highly efficient fusion energy generators that promote green and sustainable energy.\n",
        "                          Through the fusion of cutting-edge technology and commitment to environmental preservation, EcoFusion Technologies is pushing the boundaries of\n",
        "                          what's possible in the renewable energy landscape.\n",
        "\n",
        "                          Current Valuation: As of our latest funding round, EcoFusion Technologies is valued at $1.2 billion, demonstrating significant investor confidence\n",
        "                          in our future growth prospects.\n",
        "\n",
        "                      \"\"\"\n",
        "\n",
        "\n",
        "filled_in_prompt = prompt_template.format_messages(company_description=company_description)\n",
        "filled_in_prompt"
      ]
    },
    {
      "cell_type": "code",
      "execution_count": 6,
      "metadata": {
        "colab": {
          "base_uri": "https://localhost:8080/"
        },
        "id": "hMZROK7Kzy9_",
        "outputId": "904dbc3f-396a-4e56-e00b-a8e8ffaec08a"
      },
      "outputs": [
        {
          "output_type": "stream",
          "name": "stdout",
          "text": [
            "{\n",
            "    \"name\": \"EcoFusion Technologies\",\n",
            "    \"sector\": \"clean energy\",\n",
            "    \"valuation\": \"$1.2 billion\"\n",
            "}\n"
          ]
        }
      ],
      "source": [
        "response = chat.invoke(filled_in_prompt).content\n",
        "print(response)"
      ]
    },
    {
      "cell_type": "code",
      "execution_count": 7,
      "metadata": {
        "colab": {
          "base_uri": "https://localhost:8080/"
        },
        "id": "MEon9-vwz_Cp",
        "outputId": "7c4b5f19-e8cc-42dc-dd11-4be5985dd96f"
      },
      "outputs": [
        {
          "output_type": "execute_result",
          "data": {
            "text/plain": [
              "str"
            ]
          },
          "metadata": {},
          "execution_count": 7
        }
      ],
      "source": [
        "type(response)"
      ]
    },
    {
      "cell_type": "markdown",
      "metadata": {
        "id": "lW31yiS_0Ufx"
      },
      "source": [
        "## Formatting & Parsing The Output Using LangChain Response Schemas & Output Parser"
      ]
    },
    {
      "cell_type": "code",
      "execution_count": 8,
      "metadata": {
        "colab": {
          "base_uri": "https://localhost:8080/"
        },
        "id": "J5V4bcII0Hlm",
        "outputId": "e0c252de-9272-4619-e153-3c472b952484"
      },
      "outputs": [
        {
          "output_type": "execute_result",
          "data": {
            "text/plain": [
              "[ResponseSchema(name='name', description='The name of the company.', type='string'),\n",
              " ResponseSchema(name='sector', description='The sector the company is in.', type='string'),\n",
              " ResponseSchema(name='valuation', description='The valution of the company in dollars ($)', type='string')]"
            ]
          },
          "metadata": {},
          "execution_count": 8
        }
      ],
      "source": [
        "from langchain.output_parsers import ResponseSchema\n",
        "from langchain.output_parsers import StructuredOutputParser\n",
        "\n",
        "\n",
        "name_schema = ResponseSchema(name=\"name\",\n",
        "                             description=\"The name of the company.\")\n",
        "sector_schema = ResponseSchema(name=\"sector\",\n",
        "                                      description=\"The sector the company is in.\")\n",
        "valuation = ResponseSchema(name=\"valuation\",\n",
        "                                    description=\"The valution of the company in dollars ($)\")\n",
        "\n",
        "response_schemas = [name_schema,\n",
        "                    sector_schema,\n",
        "                    valuation]\n",
        "response_schemas"
      ]
    },
    {
      "cell_type": "code",
      "execution_count": 9,
      "metadata": {
        "colab": {
          "base_uri": "https://localhost:8080/"
        },
        "id": "96dyCF8K07-h",
        "outputId": "57b62efd-4681-4fc8-df3e-ceb9cb4a0192"
      },
      "outputs": [
        {
          "output_type": "execute_result",
          "data": {
            "text/plain": [
              "StructuredOutputParser(response_schemas=[ResponseSchema(name='name', description='The name of the company.', type='string'), ResponseSchema(name='sector', description='The sector the company is in.', type='string'), ResponseSchema(name='valuation', description='The valution of the company in dollars ($)', type='string')])"
            ]
          },
          "metadata": {},
          "execution_count": 9
        }
      ],
      "source": [
        "# Build an output parser using the response schema\n",
        "\n",
        "output_parser = StructuredOutputParser.from_response_schemas(response_schemas)\n",
        "output_parser"
      ]
    },
    {
      "cell_type": "markdown",
      "metadata": {
        "id": "HhrbSt-F1Fvv"
      },
      "source": [
        "## Using the output parser to create automated format instructions"
      ]
    },
    {
      "cell_type": "code",
      "execution_count": 10,
      "metadata": {
        "colab": {
          "base_uri": "https://localhost:8080/"
        },
        "id": "QEJfnhvJ1E30",
        "outputId": "63e33c97-7e09-4dee-c4ca-1cd45c65549e"
      },
      "outputs": [
        {
          "output_type": "stream",
          "name": "stdout",
          "text": [
            "The output should be a markdown code snippet formatted in the following schema, including the leading and trailing \"```json\" and \"```\":\n",
            "\n",
            "```json\n",
            "{\n",
            "\t\"name\": string  // The name of the company.\n",
            "\t\"sector\": string  // The sector the company is in.\n",
            "\t\"valuation\": string  // The valution of the company in dollars ($)\n",
            "}\n",
            "```\n"
          ]
        }
      ],
      "source": [
        "format_instructions = output_parser.get_format_instructions()\n",
        "print(format_instructions)"
      ]
    },
    {
      "cell_type": "code",
      "execution_count": 15,
      "metadata": {
        "colab": {
          "base_uri": "https://localhost:8080/"
        },
        "id": "GeQ4nrGn1Ll1",
        "outputId": "b1e9420a-33ea-4a2c-d508-32ec957dbbcb"
      },
      "outputs": [
        {
          "output_type": "stream",
          "name": "stdout",
          "text": [
            "\n",
            "            Extract the following details from a description of a company:\n",
            "\n",
            "\n",
            "            name: the name of the company\n",
            "            sector: the sector it is in.\n",
            "            valuation: its valuation in dollars $\n",
            "\n",
            "            company description:  EcoFusion Technologies is an innovative start-up breaking new grounds in the clean energy sector.\n",
            "                          The company focuses on designing and manufacturing highly efficient fusion energy generators that promote green and sustainable energy.\n",
            "                          Through the fusion of cutting-edge technology and commitment to environmental preservation, EcoFusion Technologies is pushing the boundaries of\n",
            "                          what's possible in the renewable energy landscape.\n",
            "\n",
            "                          Current Valuation: As of our latest funding round, EcoFusion Technologies is valued at $1.2 billion, demonstrating significant investor confidence\n",
            "                          in our future growth prospects.\n",
            "\n",
            "                      \n",
            "\n",
            "            Do not include the comments for the fields in your JSON output.\n",
            "\n",
            "            The output should be a markdown code snippet formatted in the following schema, including the leading and trailing \"```json\" and \"```\":\n",
            "\n",
            "```json\n",
            "{\n",
            "\t\"name\": string  // The name of the company.\n",
            "\t\"sector\": string  // The sector the company is in.\n",
            "\t\"valuation\": string  // The valution of the company in dollars ($)\n",
            "}\n",
            "```\n",
            "\n"
          ]
        }
      ],
      "source": [
        "template = \"\"\"\n",
        "            Extract the following details from a description of a company:\n",
        "\n",
        "\n",
        "            name: the name of the company\n",
        "            sector: the sector it is in.\n",
        "            valuation: its valuation in dollars $\n",
        "\n",
        "            company description: {company_description}\n",
        "\n",
        "            Do not include the comments for the fields in your JSON output.\n",
        "\n",
        "            {format_instructions}\n",
        "\"\"\"\n",
        "\n",
        "prompt = ChatPromptTemplate.from_template(template=template)\n",
        "\n",
        "messages = prompt.format_messages(company_description=company_description,\n",
        "                                format_instructions=format_instructions)\n",
        "\n",
        "print(messages[0].content)"
      ]
    },
    {
      "cell_type": "code",
      "execution_count": 16,
      "metadata": {
        "colab": {
          "base_uri": "https://localhost:8080/"
        },
        "id": "yB-2oyrR1jJT",
        "outputId": "25a63d84-6e8f-4b28-9ece-6db271a1e215"
      },
      "outputs": [
        {
          "output_type": "stream",
          "name": "stdout",
          "text": [
            "```json\n",
            "{\n",
            "\t\"name\": \"EcoFusion Technologies\",\n",
            "\t\"sector\": \"clean energy\",\n",
            "\t\"valuation\": \"$1.2 billion\"\n",
            "}\n",
            "```\n"
          ]
        }
      ],
      "source": [
        "response = chat.invoke(messages)\n",
        "print(response.content)"
      ]
    },
    {
      "cell_type": "markdown",
      "metadata": {
        "id": "_14kg-eD1uDc"
      },
      "source": [
        "## Use Output Parser to parse the JSON output"
      ]
    },
    {
      "cell_type": "code",
      "execution_count": 17,
      "metadata": {
        "colab": {
          "base_uri": "https://localhost:8080/"
        },
        "id": "t_2sdGsC1ohS",
        "outputId": "89e2de5b-cbf8-4ff3-ef51-aeba355dbfa4"
      },
      "outputs": [
        {
          "output_type": "stream",
          "name": "stdout",
          "text": [
            "{'name': 'EcoFusion Technologies', 'sector': 'clean energy', 'valuation': '$1.2 billion'}\n"
          ]
        }
      ],
      "source": [
        "parsed_output = output_parser.parse(response.content)\n",
        "print(parsed_output)"
      ]
    },
    {
      "cell_type": "code",
      "execution_count": 33,
      "metadata": {
        "colab": {
          "base_uri": "https://localhost:8080/"
        },
        "id": "XJxaCTgn11-4",
        "outputId": "3beac534-9185-45c6-8162-3abc986d1afd"
      },
      "outputs": [
        {
          "output_type": "execute_result",
          "data": {
            "text/plain": [
              "dict"
            ]
          },
          "metadata": {},
          "execution_count": 33
        }
      ],
      "source": [
        "type(parsed_output)"
      ]
    },
    {
      "cell_type": "code",
      "execution_count": 18,
      "metadata": {
        "colab": {
          "base_uri": "https://localhost:8080/",
          "height": 35
        },
        "id": "Jz1Xxzvu13q7",
        "outputId": "ac748298-2332-467c-b4b0-ba6b92a24559"
      },
      "outputs": [
        {
          "output_type": "execute_result",
          "data": {
            "text/plain": [
              "'clean energy'"
            ],
            "application/vnd.google.colaboratory.intrinsic+json": {
              "type": "string"
            }
          },
          "metadata": {},
          "execution_count": 18
        }
      ],
      "source": [
        "parsed_output['sector']"
      ]
    }
  ],
  "metadata": {
    "colab": {
      "provenance": []
    },
    "kernelspec": {
      "display_name": "Python 3",
      "name": "python3"
    },
    "language_info": {
      "name": "python"
    }
  },
  "nbformat": 4,
  "nbformat_minor": 0
}