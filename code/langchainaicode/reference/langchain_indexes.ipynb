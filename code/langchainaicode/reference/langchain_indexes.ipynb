{
  "nbformat": 4,
  "nbformat_minor": 0,
  "metadata": {
    "colab": {
      "provenance": []
    },
    "kernelspec": {
      "name": "python3",
      "display_name": "Python 3"
    },
    "language_info": {
      "name": "python"
    }
  },
  "cells": [
    {
      "cell_type": "code",
      "execution_count": 1,
      "metadata": {
        "colab": {
          "base_uri": "https://localhost:8080/"
        },
        "id": "sXAT08zpPNbm",
        "outputId": "d3b57167-6b28-4fe4-a239-1c918fe050cd"
      },
      "outputs": [
        {
          "output_type": "stream",
          "name": "stdout",
          "text": [
            "Requirement already satisfied: langchain in /usr/local/lib/python3.10/dist-packages (0.1.9)\n",
            "Requirement already satisfied: langchain-openai in /usr/local/lib/python3.10/dist-packages (0.0.7)\n",
            "Requirement already satisfied: PyYAML>=5.3 in /usr/local/lib/python3.10/dist-packages (from langchain) (6.0.1)\n",
            "Requirement already satisfied: SQLAlchemy<3,>=1.4 in /usr/local/lib/python3.10/dist-packages (from langchain) (2.0.27)\n",
            "Requirement already satisfied: aiohttp<4.0.0,>=3.8.3 in /usr/local/lib/python3.10/dist-packages (from langchain) (3.9.3)\n",
            "Requirement already satisfied: async-timeout<5.0.0,>=4.0.0 in /usr/local/lib/python3.10/dist-packages (from langchain) (4.0.3)\n",
            "Requirement already satisfied: dataclasses-json<0.7,>=0.5.7 in /usr/local/lib/python3.10/dist-packages (from langchain) (0.6.4)\n",
            "Requirement already satisfied: jsonpatch<2.0,>=1.33 in /usr/local/lib/python3.10/dist-packages (from langchain) (1.33)\n",
            "Requirement already satisfied: langchain-community<0.1,>=0.0.21 in /usr/local/lib/python3.10/dist-packages (from langchain) (0.0.24)\n",
            "Requirement already satisfied: langchain-core<0.2,>=0.1.26 in /usr/local/lib/python3.10/dist-packages (from langchain) (0.1.26)\n",
            "Requirement already satisfied: langsmith<0.2.0,>=0.1.0 in /usr/local/lib/python3.10/dist-packages (from langchain) (0.1.6)\n",
            "Requirement already satisfied: numpy<2,>=1 in /usr/local/lib/python3.10/dist-packages (from langchain) (1.25.2)\n",
            "Requirement already satisfied: pydantic<3,>=1 in /usr/local/lib/python3.10/dist-packages (from langchain) (1.10.9)\n",
            "Requirement already satisfied: requests<3,>=2 in /usr/local/lib/python3.10/dist-packages (from langchain) (2.31.0)\n",
            "Requirement already satisfied: tenacity<9.0.0,>=8.1.0 in /usr/local/lib/python3.10/dist-packages (from langchain) (8.2.3)\n",
            "Requirement already satisfied: openai<2.0.0,>=1.10.0 in /usr/local/lib/python3.10/dist-packages (from langchain-openai) (1.12.0)\n",
            "Requirement already satisfied: tiktoken<1,>=0.5.2 in /usr/local/lib/python3.10/dist-packages (from langchain-openai) (0.6.0)\n",
            "Requirement already satisfied: aiosignal>=1.1.2 in /usr/local/lib/python3.10/dist-packages (from aiohttp<4.0.0,>=3.8.3->langchain) (1.3.1)\n",
            "Requirement already satisfied: attrs>=17.3.0 in /usr/local/lib/python3.10/dist-packages (from aiohttp<4.0.0,>=3.8.3->langchain) (23.2.0)\n",
            "Requirement already satisfied: frozenlist>=1.1.1 in /usr/local/lib/python3.10/dist-packages (from aiohttp<4.0.0,>=3.8.3->langchain) (1.4.1)\n",
            "Requirement already satisfied: multidict<7.0,>=4.5 in /usr/local/lib/python3.10/dist-packages (from aiohttp<4.0.0,>=3.8.3->langchain) (6.0.5)\n",
            "Requirement already satisfied: yarl<2.0,>=1.0 in /usr/local/lib/python3.10/dist-packages (from aiohttp<4.0.0,>=3.8.3->langchain) (1.9.4)\n",
            "Requirement already satisfied: marshmallow<4.0.0,>=3.18.0 in /usr/local/lib/python3.10/dist-packages (from dataclasses-json<0.7,>=0.5.7->langchain) (3.20.2)\n",
            "Requirement already satisfied: typing-inspect<1,>=0.4.0 in /usr/local/lib/python3.10/dist-packages (from dataclasses-json<0.7,>=0.5.7->langchain) (0.9.0)\n",
            "Requirement already satisfied: jsonpointer>=1.9 in /usr/local/lib/python3.10/dist-packages (from jsonpatch<2.0,>=1.33->langchain) (2.4)\n",
            "Requirement already satisfied: anyio<5,>=3 in /usr/local/lib/python3.10/dist-packages (from langchain-core<0.2,>=0.1.26->langchain) (3.7.1)\n",
            "Requirement already satisfied: packaging<24.0,>=23.2 in /usr/local/lib/python3.10/dist-packages (from langchain-core<0.2,>=0.1.26->langchain) (23.2)\n",
            "Requirement already satisfied: orjson<4.0.0,>=3.9.14 in /usr/local/lib/python3.10/dist-packages (from langsmith<0.2.0,>=0.1.0->langchain) (3.9.15)\n",
            "Requirement already satisfied: distro<2,>=1.7.0 in /usr/lib/python3/dist-packages (from openai<2.0.0,>=1.10.0->langchain-openai) (1.7.0)\n",
            "Requirement already satisfied: httpx<1,>=0.23.0 in /usr/local/lib/python3.10/dist-packages (from openai<2.0.0,>=1.10.0->langchain-openai) (0.27.0)\n",
            "Requirement already satisfied: sniffio in /usr/local/lib/python3.10/dist-packages (from openai<2.0.0,>=1.10.0->langchain-openai) (1.3.0)\n",
            "Requirement already satisfied: tqdm>4 in /usr/local/lib/python3.10/dist-packages (from openai<2.0.0,>=1.10.0->langchain-openai) (4.66.2)\n",
            "Requirement already satisfied: typing-extensions<5,>=4.7 in /usr/local/lib/python3.10/dist-packages (from openai<2.0.0,>=1.10.0->langchain-openai) (4.9.0)\n",
            "Requirement already satisfied: charset-normalizer<4,>=2 in /usr/local/lib/python3.10/dist-packages (from requests<3,>=2->langchain) (3.3.2)\n",
            "Requirement already satisfied: idna<4,>=2.5 in /usr/local/lib/python3.10/dist-packages (from requests<3,>=2->langchain) (3.6)\n",
            "Requirement already satisfied: urllib3<3,>=1.21.1 in /usr/local/lib/python3.10/dist-packages (from requests<3,>=2->langchain) (2.0.7)\n",
            "Requirement already satisfied: certifi>=2017.4.17 in /usr/local/lib/python3.10/dist-packages (from requests<3,>=2->langchain) (2024.2.2)\n",
            "Requirement already satisfied: greenlet!=0.4.17 in /usr/local/lib/python3.10/dist-packages (from SQLAlchemy<3,>=1.4->langchain) (3.0.3)\n",
            "Requirement already satisfied: regex>=2022.1.18 in /usr/local/lib/python3.10/dist-packages (from tiktoken<1,>=0.5.2->langchain-openai) (2023.12.25)\n",
            "Requirement already satisfied: exceptiongroup in /usr/local/lib/python3.10/dist-packages (from anyio<5,>=3->langchain-core<0.2,>=0.1.26->langchain) (1.2.0)\n",
            "Requirement already satisfied: httpcore==1.* in /usr/local/lib/python3.10/dist-packages (from httpx<1,>=0.23.0->openai<2.0.0,>=1.10.0->langchain-openai) (1.0.4)\n",
            "Requirement already satisfied: h11<0.15,>=0.13 in /usr/local/lib/python3.10/dist-packages (from httpcore==1.*->httpx<1,>=0.23.0->openai<2.0.0,>=1.10.0->langchain-openai) (0.14.0)\n",
            "Requirement already satisfied: mypy-extensions>=0.3.0 in /usr/local/lib/python3.10/dist-packages (from typing-inspect<1,>=0.4.0->dataclasses-json<0.7,>=0.5.7->langchain) (1.0.0)\n",
            "Requirement already satisfied: pydantic in /usr/local/lib/python3.10/dist-packages (1.10.9)\n",
            "Requirement already satisfied: typing-extensions>=4.2.0 in /usr/local/lib/python3.10/dist-packages (from pydantic) (4.9.0)\n",
            "Requirement already satisfied: tiktoken in /usr/local/lib/python3.10/dist-packages (0.6.0)\n",
            "Requirement already satisfied: regex>=2022.1.18 in /usr/local/lib/python3.10/dist-packages (from tiktoken) (2023.12.25)\n",
            "Requirement already satisfied: requests>=2.26.0 in /usr/local/lib/python3.10/dist-packages (from tiktoken) (2.31.0)\n",
            "Requirement already satisfied: charset-normalizer<4,>=2 in /usr/local/lib/python3.10/dist-packages (from requests>=2.26.0->tiktoken) (3.3.2)\n",
            "Requirement already satisfied: idna<4,>=2.5 in /usr/local/lib/python3.10/dist-packages (from requests>=2.26.0->tiktoken) (3.6)\n",
            "Requirement already satisfied: urllib3<3,>=1.21.1 in /usr/local/lib/python3.10/dist-packages (from requests>=2.26.0->tiktoken) (2.0.7)\n",
            "Requirement already satisfied: certifi>=2017.4.17 in /usr/local/lib/python3.10/dist-packages (from requests>=2.26.0->tiktoken) (2024.2.2)\n"
          ]
        }
      ],
      "source": [
        "!pip install langchain langchain-openai\n",
        "!pip install pydantic\n",
        "!pip install tiktoken\n",
        "\n",
        "import os\n",
        "os.environ[\"OPENAI_API_KEY\"] = \"YOUR API KEY\""
      ]
    },
    {
      "cell_type": "code",
      "source": [
        "from langchain_openai import ChatOpenAI\n",
        "from langchain_openai import OpenAIEmbeddings\n",
        "from langchain.document_loaders import CSVLoader\n",
        "from langchain.vectorstores import DocArrayInMemorySearch\n",
        "from langchain.indexes import VectorstoreIndexCreator\n",
        "\n",
        "file = 'articles.csv'\n",
        "loader = CSVLoader(file_path=file)"
      ],
      "metadata": {
        "id": "U3aqNFX2PRnz"
      },
      "execution_count": 4,
      "outputs": []
    },
    {
      "cell_type": "code",
      "source": [
        "index = VectorstoreIndexCreator(\n",
        "    vectorstore_cls=DocArrayInMemorySearch\n",
        ").from_loaders([loader])"
      ],
      "metadata": {
        "id": "cPP8JG7sQ-QJ"
      },
      "execution_count": 5,
      "outputs": []
    },
    {
      "cell_type": "code",
      "source": [
        "query =\"Do you have any articles on AI?\"\n",
        "\n",
        "response = index.query(query)\n",
        "print(response)"
      ],
      "metadata": {
        "colab": {
          "base_uri": "https://localhost:8080/"
        },
        "id": "gop8RXaeRBL8",
        "outputId": "5305b134-725d-493d-ec0e-e043e0f055fb"
      },
      "execution_count": 6,
      "outputs": [
        {
          "output_type": "stream",
          "name": "stdout",
          "text": [
            " Yes, there are several articles mentioned in the context provided that discuss the influence and future of AI in various fields, including healthcare, cooking, and ethics.\n"
          ]
        }
      ]
    },
    {
      "cell_type": "code",
      "source": [
        "query =\"List all articles you have on AI. Make sure to return them as a numbered list with title and summary.\"\n",
        "\n",
        "response = index.query(query)\n",
        "print(response)"
      ],
      "metadata": {
        "colab": {
          "base_uri": "https://localhost:8080/"
        },
        "id": "nU917H9kSjlR",
        "outputId": "5cd424ce-c05b-4f5d-df6d-733a1ff951b4"
      },
      "execution_count": 7,
      "outputs": [
        {
          "output_type": "stream",
          "name": "stdout",
          "text": [
            "\n",
            "1. Title: The Rise of AI Ethics\n",
            "Topic: Artificial Intelligence\n",
            "Article_Summary: With AI's growing influence, ethical considerations have become paramount. Issues like privacy, decision transparency, and bias in AI need comprehensive guidelines to ensure the technology is used responsibly.\n",
            "\n",
            "2. Title: Artificial Intelligence: The Job Creator\n",
            "Topic: Artificial Intelligence\n",
            "Article_Summary: While AI is perceived as a job threat, it also creates new roles. Jobs in AI development, data analysis, and AI ethics have emerged, requiring a new generation of tech-savvy professionals.\n",
            "\n",
            "3. Title: Robots in the Kitchen: AI and Cooking\n",
            "Topic: Cooking\n",
            "Article_Summary: Innovations in AI are expanding into our kitchens, with intelligent cooking appliances designed to simplify meal preparation. From recipe suggestions to precise cooking controls, AI is revolutionizing the culinary landscape.\n",
            "\n",
            "4. Title: The Influence of AI on Modern Healthcare\n",
            "Topic: Artificial Intelligence\n",
            "Article_Summary: AI is a powerful tool in modern healthcare, enabling early disease detection, personalized medicine, and improved patient care. As this technology advances, its impact on healthcare will only increase.\n"
          ]
        }
      ]
    },
    {
      "cell_type": "markdown",
      "source": [
        "## Recommender System Using Similarity Search"
      ],
      "metadata": {
        "id": "ztrP3eMDTUFO"
      }
    },
    {
      "cell_type": "code",
      "source": [
        "embeddings = OpenAIEmbeddings(model=\"text-embedding-ada-002\")"
      ],
      "metadata": {
        "id": "1fkOQd7GSpjv"
      },
      "execution_count": 8,
      "outputs": []
    },
    {
      "cell_type": "code",
      "source": [
        "loaded_articles = loader.load()\n",
        "loaded_articles[0]"
      ],
      "metadata": {
        "colab": {
          "base_uri": "https://localhost:8080/"
        },
        "id": "Z2Ra00RYTaG3",
        "outputId": "6a7ee5e5-39f2-4435-8d0e-3bb0047dfdf5"
      },
      "execution_count": 9,
      "outputs": [
        {
          "output_type": "execute_result",
          "data": {
            "text/plain": [
              "Document(page_content='Title: The Microcosm of Gut Flora\"\\nTopic: Microbiology\\nArticle_Summary: Gut flora, or gut microbiota, constitutes a complex community of microorganisms residing in our digestive tracts. Comprising mainly bacteria, their balance significantly influences our health, affecting digestion, immunity, and even mental well-being.', metadata={'source': 'articles.csv', 'row': 0})"
            ]
          },
          "metadata": {},
          "execution_count": 9
        }
      ]
    },
    {
      "cell_type": "code",
      "source": [
        "embedded_query = embeddings.embed_query(\"The Rise of AI Ethics\")\n",
        "embedded_query[:10]"
      ],
      "metadata": {
        "colab": {
          "base_uri": "https://localhost:8080/"
        },
        "id": "lLjtbXKQTh3a",
        "outputId": "49cd6228-35c0-4d1c-8455-cd66426812e9"
      },
      "execution_count": 10,
      "outputs": [
        {
          "output_type": "execute_result",
          "data": {
            "text/plain": [
              "[0.007386083462384832,\n",
              " -0.043288401776930545,\n",
              " 0.006780722450743075,\n",
              " -0.034360167024510585,\n",
              " -0.00707494817822277,\n",
              " 0.017437109891414254,\n",
              " -0.01673367270595678,\n",
              " 0.020900180394441123,\n",
              " -0.022821103798384052,\n",
              " -0.039338335296393516]"
            ]
          },
          "metadata": {},
          "execution_count": 10
        }
      ]
    },
    {
      "cell_type": "code",
      "source": [
        "vector_db = DocArrayInMemorySearch.from_documents(\n",
        "    loaded_articles,\n",
        "    embeddings\n",
        ")\n",
        "\n",
        "title_of_last_article = \"Stories on artificial intelligence\"\n",
        "\n",
        "most_similar_articles = vector_db.similarity_search(title_of_last_article, k=3)\n",
        "most_similar_articles"
      ],
      "metadata": {
        "colab": {
          "base_uri": "https://localhost:8080/"
        },
        "id": "tQKzCc54TwYP",
        "outputId": "0d55a60e-26e7-469d-b071-11e19cfe3537"
      },
      "execution_count": 11,
      "outputs": [
        {
          "output_type": "execute_result",
          "data": {
            "text/plain": [
              "[Document(page_content='Title: Artificial Intelligence: The Job Creator\\nTopic: Artificial Intelligence\\nArticle_Summary: While AI is perceived as a job threat, it also creates new roles. Jobs in AI development, data analysis, and AI ethics have emerged, requiring a new generation of tech-savvy professionals.', metadata={'source': 'articles.csv', 'row': 11}),\n",
              " Document(page_content=\"Title: The Rise of AI Ethics\\nTopic: Artificial Intelligence\\nArticle_Summary: With AI's growing influence, ethical considerations have become paramount. Issues like privacy, decision transparency, and bias in AI need comprehensive guidelines to ensure the technology is used responsibly.\", metadata={'source': 'articles.csv', 'row': 14}),\n",
              " Document(page_content='Title: Robots in the Kitchen: AI and Cooking\\nTopic: Cooking\\nArticle_Summary: Innovations in AI are expanding into our kitchens, with intelligent cooking appliances designed to simplify meal preparation. From recipe suggestions to precise cooking controls, AI is revolutionizing the culinary landscape.', metadata={'source': 'articles.csv', 'row': 4})]"
            ]
          },
          "metadata": {},
          "execution_count": 11
        }
      ]
    },
    {
      "cell_type": "code",
      "source": [
        "for doc in most_similar_articles:\n",
        "  print(doc.page_content)\n",
        "  print(\"-------------------\")"
      ],
      "metadata": {
        "colab": {
          "base_uri": "https://localhost:8080/"
        },
        "id": "FHQVcnwvT_xs",
        "outputId": "53140ce0-a2d5-4a1a-b221-4ae830aa7b66"
      },
      "execution_count": 12,
      "outputs": [
        {
          "output_type": "stream",
          "name": "stdout",
          "text": [
            "Title: Artificial Intelligence: The Job Creator\n",
            "Topic: Artificial Intelligence\n",
            "Article_Summary: While AI is perceived as a job threat, it also creates new roles. Jobs in AI development, data analysis, and AI ethics have emerged, requiring a new generation of tech-savvy professionals.\n",
            "-------------------\n",
            "Title: The Rise of AI Ethics\n",
            "Topic: Artificial Intelligence\n",
            "Article_Summary: With AI's growing influence, ethical considerations have become paramount. Issues like privacy, decision transparency, and bias in AI need comprehensive guidelines to ensure the technology is used responsibly.\n",
            "-------------------\n",
            "Title: Robots in the Kitchen: AI and Cooking\n",
            "Topic: Cooking\n",
            "Article_Summary: Innovations in AI are expanding into our kitchens, with intelligent cooking appliances designed to simplify meal preparation. From recipe suggestions to precise cooking controls, AI is revolutionizing the culinary landscape.\n",
            "-------------------\n"
          ]
        }
      ]
    }
  ]
}