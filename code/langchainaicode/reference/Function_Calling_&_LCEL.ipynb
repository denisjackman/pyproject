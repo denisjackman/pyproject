{
  "cells": [
    {
      "cell_type": "code",
      "execution_count": null,
      "metadata": {
        "colab": {
          "base_uri": "https://localhost:8080/"
        },
        "id": "rTc2W36EwS9t",
        "outputId": "f063ee89-1d23-4581-a57f-fe21b5f48f7a"
      },
      "outputs": [
        {
          "output_type": "stream",
          "name": "stdout",
          "text": [
            "Requirement already satisfied: langchain-openai in /usr/local/lib/python3.10/dist-packages (0.0.6)\n",
            "Requirement already satisfied: langchain-core<0.2,>=0.1.16 in /usr/local/lib/python3.10/dist-packages (from langchain-openai) (0.1.25)\n",
            "Requirement already satisfied: numpy<2,>=1 in /usr/local/lib/python3.10/dist-packages (from langchain-openai) (1.25.2)\n",
            "Requirement already satisfied: openai<2.0.0,>=1.10.0 in /usr/local/lib/python3.10/dist-packages (from langchain-openai) (1.12.0)\n",
            "Requirement already satisfied: tiktoken<1,>=0.5.2 in /usr/local/lib/python3.10/dist-packages (from langchain-openai) (0.6.0)\n",
            "Requirement already satisfied: PyYAML>=5.3 in /usr/local/lib/python3.10/dist-packages (from langchain-core<0.2,>=0.1.16->langchain-openai) (6.0.1)\n",
            "Requirement already satisfied: anyio<5,>=3 in /usr/local/lib/python3.10/dist-packages (from langchain-core<0.2,>=0.1.16->langchain-openai) (3.7.1)\n",
            "Requirement already satisfied: jsonpatch<2.0,>=1.33 in /usr/local/lib/python3.10/dist-packages (from langchain-core<0.2,>=0.1.16->langchain-openai) (1.33)\n",
            "Requirement already satisfied: langsmith<0.2.0,>=0.1.0 in /usr/local/lib/python3.10/dist-packages (from langchain-core<0.2,>=0.1.16->langchain-openai) (0.1.5)\n",
            "Requirement already satisfied: packaging<24.0,>=23.2 in /usr/local/lib/python3.10/dist-packages (from langchain-core<0.2,>=0.1.16->langchain-openai) (23.2)\n",
            "Requirement already satisfied: pydantic<3,>=1 in /usr/local/lib/python3.10/dist-packages (from langchain-core<0.2,>=0.1.16->langchain-openai) (2.6.1)\n",
            "Requirement already satisfied: requests<3,>=2 in /usr/local/lib/python3.10/dist-packages (from langchain-core<0.2,>=0.1.16->langchain-openai) (2.31.0)\n",
            "Requirement already satisfied: tenacity<9.0.0,>=8.1.0 in /usr/local/lib/python3.10/dist-packages (from langchain-core<0.2,>=0.1.16->langchain-openai) (8.2.3)\n",
            "Requirement already satisfied: distro<2,>=1.7.0 in /usr/lib/python3/dist-packages (from openai<2.0.0,>=1.10.0->langchain-openai) (1.7.0)\n",
            "Requirement already satisfied: httpx<1,>=0.23.0 in /usr/local/lib/python3.10/dist-packages (from openai<2.0.0,>=1.10.0->langchain-openai) (0.27.0)\n",
            "Requirement already satisfied: sniffio in /usr/local/lib/python3.10/dist-packages (from openai<2.0.0,>=1.10.0->langchain-openai) (1.3.0)\n",
            "Requirement already satisfied: tqdm>4 in /usr/local/lib/python3.10/dist-packages (from openai<2.0.0,>=1.10.0->langchain-openai) (4.66.2)\n",
            "Requirement already satisfied: typing-extensions<5,>=4.7 in /usr/local/lib/python3.10/dist-packages (from openai<2.0.0,>=1.10.0->langchain-openai) (4.9.0)\n",
            "Requirement already satisfied: regex>=2022.1.18 in /usr/local/lib/python3.10/dist-packages (from tiktoken<1,>=0.5.2->langchain-openai) (2023.12.25)\n",
            "Requirement already satisfied: idna>=2.8 in /usr/local/lib/python3.10/dist-packages (from anyio<5,>=3->langchain-core<0.2,>=0.1.16->langchain-openai) (3.6)\n",
            "Requirement already satisfied: exceptiongroup in /usr/local/lib/python3.10/dist-packages (from anyio<5,>=3->langchain-core<0.2,>=0.1.16->langchain-openai) (1.2.0)\n",
            "Requirement already satisfied: certifi in /usr/local/lib/python3.10/dist-packages (from httpx<1,>=0.23.0->openai<2.0.0,>=1.10.0->langchain-openai) (2024.2.2)\n",
            "Requirement already satisfied: httpcore==1.* in /usr/local/lib/python3.10/dist-packages (from httpx<1,>=0.23.0->openai<2.0.0,>=1.10.0->langchain-openai) (1.0.4)\n",
            "Requirement already satisfied: h11<0.15,>=0.13 in /usr/local/lib/python3.10/dist-packages (from httpcore==1.*->httpx<1,>=0.23.0->openai<2.0.0,>=1.10.0->langchain-openai) (0.14.0)\n",
            "Requirement already satisfied: jsonpointer>=1.9 in /usr/local/lib/python3.10/dist-packages (from jsonpatch<2.0,>=1.33->langchain-core<0.2,>=0.1.16->langchain-openai) (2.4)\n",
            "Requirement already satisfied: annotated-types>=0.4.0 in /usr/local/lib/python3.10/dist-packages (from pydantic<3,>=1->langchain-core<0.2,>=0.1.16->langchain-openai) (0.6.0)\n",
            "Requirement already satisfied: pydantic-core==2.16.2 in /usr/local/lib/python3.10/dist-packages (from pydantic<3,>=1->langchain-core<0.2,>=0.1.16->langchain-openai) (2.16.2)\n",
            "Requirement already satisfied: charset-normalizer<4,>=2 in /usr/local/lib/python3.10/dist-packages (from requests<3,>=2->langchain-core<0.2,>=0.1.16->langchain-openai) (3.3.2)\n",
            "Requirement already satisfied: urllib3<3,>=1.21.1 in /usr/local/lib/python3.10/dist-packages (from requests<3,>=2->langchain-core<0.2,>=0.1.16->langchain-openai) (2.0.7)\n"
          ]
        }
      ],
      "source": [
        "!pip install langchain-openai"
      ]
    },
    {
      "cell_type": "code",
      "execution_count": null,
      "metadata": {
        "id": "DDOv0jMeeRUh"
      },
      "outputs": [],
      "source": [
        "import os\n",
        "import openai\n",
        "\n",
        "os.environ['OPENAI_API_KEY'] = \"YOUR API KEY\""
      ]
    },
    {
      "cell_type": "code",
      "execution_count": null,
      "metadata": {
        "id": "w1QZHzHiwdMs"
      },
      "outputs": [],
      "source": [
        "def perform_arithmetic(first_num: int, second_num: int, operation: str) -> int:\n",
        "    \"\"\"Perform arithmetic on two numbers.\n",
        "\n",
        "    Args:\n",
        "        first_num: first number in the arithmetic operation. If dividing, this would be the numerator.\n",
        "        second_num: second number in the arithmetic operation. If dividing, this would be the denominator.\n",
        "        operation: one of (add, subtract, multiply, divide)\n",
        "    \"\"\"\n",
        "\n",
        "    if operation == 'add':\n",
        "      return first_num + second_num\n",
        "    elif operation == 'subtract':\n",
        "      return first_num - second_num\n",
        "    elif operation == 'multiply':\n",
        "      return first_num * second_num\n",
        "    elif operation == 'divide':\n",
        "      return first_num / second_num\n",
        "    else:\n",
        "      return f\"The following operation is not allowed: {operation}\""
      ]
    },
    {
      "cell_type": "code",
      "execution_count": null,
      "metadata": {
        "colab": {
          "base_uri": "https://localhost:8080/"
        },
        "id": "U8H9c8C-xBvQ",
        "outputId": "59cb36f1-7ebf-465d-b80a-62d2491b4cb3"
      },
      "outputs": [
        {
          "output_type": "stream",
          "name": "stdout",
          "text": [
            "{\n",
            "    \"type\": \"function\",\n",
            "    \"function\": {\n",
            "        \"name\": \"perform_arithmetic\",\n",
            "        \"description\": \"Perform arithmetic on two numbers.\",\n",
            "        \"parameters\": {\n",
            "            \"type\": \"object\",\n",
            "            \"properties\": {\n",
            "                \"first_num\": {\n",
            "                    \"type\": \"integer\",\n",
            "                    \"description\": \"first number in the arithmetic operation. If dividing, this would be the numerator.\"\n",
            "                },\n",
            "                \"second_num\": {\n",
            "                    \"type\": \"integer\",\n",
            "                    \"description\": \"second number in the arithmetic operation. If dividing, this would be the denominator.\"\n",
            "                },\n",
            "                \"operation\": {\n",
            "                    \"type\": \"string\",\n",
            "                    \"description\": \"one of (add, subtract, multiply, divide)\"\n",
            "                }\n",
            "            },\n",
            "            \"required\": [\n",
            "                \"first_num\",\n",
            "                \"second_num\",\n",
            "                \"operation\"\n",
            "            ]\n",
            "        }\n",
            "    }\n",
            "}\n"
          ]
        }
      ],
      "source": [
        "from langchain_core.utils.function_calling import convert_to_openai_tool\n",
        "import json\n",
        "\n",
        "arithmetic_function = convert_to_openai_tool(perform_arithmetic)\n",
        "print(json.dumps(arithmetic_function, indent=4))"
      ]
    },
    {
      "cell_type": "code",
      "execution_count": null,
      "metadata": {
        "id": "sFNkQ2MqxPZa"
      },
      "outputs": [],
      "source": [
        "from langchain_openai import ChatOpenAI\n",
        "\n",
        "reg_model = ChatOpenAI(model=\"gpt-3.5-turbo\")"
      ]
    },
    {
      "cell_type": "code",
      "execution_count": null,
      "metadata": {
        "colab": {
          "base_uri": "https://localhost:8080/"
        },
        "id": "yqlJ-Kcdx07x",
        "outputId": "4601a5bd-0271-4ed0-8e3d-eb97d7f29291"
      },
      "outputs": [
        {
          "output_type": "execute_result",
          "data": {
            "text/plain": [
              "AIMessage(content='74,223,496,970,639')"
            ]
          },
          "metadata": {},
          "execution_count": 8
        }
      ],
      "source": [
        "reg_model.invoke('what is 910751 * 81301589?')"
      ]
    },
    {
      "cell_type": "code",
      "execution_count": null,
      "metadata": {
        "id": "gw0KerzeyMx_"
      },
      "outputs": [],
      "source": [
        "model_with_tool = reg_model.bind(\n",
        "    tools=[arithmetic_function],\n",
        ")"
      ]
    },
    {
      "cell_type": "code",
      "execution_count": null,
      "metadata": {
        "colab": {
          "base_uri": "https://localhost:8080/"
        },
        "id": "1sWbvABu0VDB",
        "outputId": "d51e9115-28ca-48b2-fd92-306cceef7ab7"
      },
      "outputs": [
        {
          "output_type": "stream",
          "name": "stdout",
          "text": [
            "content='' additional_kwargs={'tool_calls': [{'id': 'call_lQbyDWr7mAZaag4GRCve14qj', 'function': {'arguments': '{\"first_num\":910751,\"second_num\":81301589,\"operation\":\"multiply\"}', 'name': 'perform_arithmetic'}, 'type': 'function'}]}\n"
          ]
        }
      ],
      "source": [
        "result = model_with_tool.invoke('what is 910751 * 81301589?')\n",
        "print(result)"
      ]
    },
    {
      "cell_type": "code",
      "execution_count": null,
      "metadata": {
        "colab": {
          "base_uri": "https://localhost:8080/"
        },
        "id": "xyIawhIN058e",
        "outputId": "ebe8d905-a3e4-418a-9888-e35d43acf121"
      },
      "outputs": [
        {
          "output_type": "stream",
          "name": "stdout",
          "text": [
            "Arguments:  {\"first_num\":910751,\"second_num\":81301589,\"operation\":\"multiply\"}\n",
            "Function Name:  perform_arithmetic\n"
          ]
        }
      ],
      "source": [
        "args = result.additional_kwargs['tool_calls'][0]['function']['arguments']\n",
        "function_name = result.additional_kwargs['tool_calls'][0]['function']['name']\n",
        "\n",
        "print(\"Arguments: \", args)\n",
        "print(\"Function Name: \", function_name)"
      ]
    },
    {
      "cell_type": "code",
      "execution_count": null,
      "metadata": {
        "colab": {
          "base_uri": "https://localhost:8080/"
        },
        "id": "kEOlJSpo1Kfv",
        "outputId": "f802337a-3121-4261-91c6-2189147a8b4b"
      },
      "outputs": [
        {
          "output_type": "stream",
          "name": "stdout",
          "text": [
            "ANSWER: 74045503483339\n"
          ]
        }
      ],
      "source": [
        "refined_args = json.loads(args)\n",
        "answer = perform_arithmetic(**refined_args)\n",
        "print(f\"ANSWER: {answer}\")"
      ]
    },
    {
      "cell_type": "markdown",
      "source": [
        "### Putting it all together into a Chatbot"
      ],
      "metadata": {
        "id": "mh1GaTpOq-tP"
      }
    },
    {
      "cell_type": "code",
      "execution_count": null,
      "metadata": {
        "id": "FayLZJtEO8aE"
      },
      "outputs": [],
      "source": [
        "from langchain_core.tools import tool\n",
        "\n",
        "@tool\n",
        "def perform_arithmetic(first_num: int, second_num: int, operation: str) -> int:\n",
        "    \"\"\"Multiply two integers together.\n",
        "\n",
        "    Args:\n",
        "        first_num: first number in the arithmetic operation. If dividing, this would be the numerator.\n",
        "        second_num: second number in the arithmetic operation. If dividing, this would be the denominator.\n",
        "        operation: one of (add, subtract, multiply, divide)\n",
        "    \"\"\"\n",
        "\n",
        "    if operation == 'add':\n",
        "      return first_num + second_num\n",
        "    elif operation == 'subtract':\n",
        "      return first_num - second_num\n",
        "    elif operation == 'multiply':\n",
        "      return first_num * second_num\n",
        "    elif operation == 'divide':\n",
        "      return first_num / second_num\n",
        "    else:\n",
        "      return f\"The following operation is not allowed: {operation}\"\n",
        "\n",
        "tools = [perform_arithmetic]"
      ]
    },
    {
      "cell_type": "code",
      "source": [
        "!pip install langchainhub langchain"
      ],
      "metadata": {
        "colab": {
          "base_uri": "https://localhost:8080/"
        },
        "id": "98fM99LpsXP0",
        "outputId": "0fecdefb-5d86-40c6-d578-aa0aac1922e5"
      },
      "execution_count": null,
      "outputs": [
        {
          "output_type": "stream",
          "name": "stdout",
          "text": [
            "Collecting langchainhub\n",
            "  Downloading langchainhub-0.1.14-py3-none-any.whl (3.4 kB)\n",
            "Collecting langchain\n",
            "  Downloading langchain-0.1.8-py3-none-any.whl (816 kB)\n",
            "\u001b[2K     \u001b[90m━━━━━━━━━━━━━━━━━━━━━━━━━━━━━━━━━━━━━━━━\u001b[0m \u001b[32m816.1/816.1 kB\u001b[0m \u001b[31m8.5 MB/s\u001b[0m eta \u001b[36m0:00:00\u001b[0m\n",
            "\u001b[?25hRequirement already satisfied: requests<3,>=2 in /usr/local/lib/python3.10/dist-packages (from langchainhub) (2.31.0)\n",
            "Collecting types-requests<3.0.0.0,>=2.31.0.2 (from langchainhub)\n",
            "  Downloading types_requests-2.31.0.20240218-py3-none-any.whl (14 kB)\n",
            "Requirement already satisfied: PyYAML>=5.3 in /usr/local/lib/python3.10/dist-packages (from langchain) (6.0.1)\n",
            "Requirement already satisfied: SQLAlchemy<3,>=1.4 in /usr/local/lib/python3.10/dist-packages (from langchain) (2.0.27)\n",
            "Requirement already satisfied: aiohttp<4.0.0,>=3.8.3 in /usr/local/lib/python3.10/dist-packages (from langchain) (3.9.3)\n",
            "Requirement already satisfied: async-timeout<5.0.0,>=4.0.0 in /usr/local/lib/python3.10/dist-packages (from langchain) (4.0.3)\n",
            "Collecting dataclasses-json<0.7,>=0.5.7 (from langchain)\n",
            "  Downloading dataclasses_json-0.6.4-py3-none-any.whl (28 kB)\n",
            "Requirement already satisfied: jsonpatch<2.0,>=1.33 in /usr/local/lib/python3.10/dist-packages (from langchain) (1.33)\n",
            "Collecting langchain-community<0.1,>=0.0.21 (from langchain)\n",
            "  Downloading langchain_community-0.0.21-py3-none-any.whl (1.7 MB)\n",
            "\u001b[2K     \u001b[90m━━━━━━━━━━━━━━━━━━━━━━━━━━━━━━━━━━━━━━━━\u001b[0m \u001b[32m1.7/1.7 MB\u001b[0m \u001b[31m16.3 MB/s\u001b[0m eta \u001b[36m0:00:00\u001b[0m\n",
            "\u001b[?25hRequirement already satisfied: langchain-core<0.2,>=0.1.24 in /usr/local/lib/python3.10/dist-packages (from langchain) (0.1.25)\n",
            "Requirement already satisfied: langsmith<0.2.0,>=0.1.0 in /usr/local/lib/python3.10/dist-packages (from langchain) (0.1.5)\n",
            "Requirement already satisfied: numpy<2,>=1 in /usr/local/lib/python3.10/dist-packages (from langchain) (1.25.2)\n",
            "Requirement already satisfied: pydantic<3,>=1 in /usr/local/lib/python3.10/dist-packages (from langchain) (2.6.1)\n",
            "Requirement already satisfied: tenacity<9.0.0,>=8.1.0 in /usr/local/lib/python3.10/dist-packages (from langchain) (8.2.3)\n",
            "Requirement already satisfied: aiosignal>=1.1.2 in /usr/local/lib/python3.10/dist-packages (from aiohttp<4.0.0,>=3.8.3->langchain) (1.3.1)\n",
            "Requirement already satisfied: attrs>=17.3.0 in /usr/local/lib/python3.10/dist-packages (from aiohttp<4.0.0,>=3.8.3->langchain) (23.2.0)\n",
            "Requirement already satisfied: frozenlist>=1.1.1 in /usr/local/lib/python3.10/dist-packages (from aiohttp<4.0.0,>=3.8.3->langchain) (1.4.1)\n",
            "Requirement already satisfied: multidict<7.0,>=4.5 in /usr/local/lib/python3.10/dist-packages (from aiohttp<4.0.0,>=3.8.3->langchain) (6.0.5)\n",
            "Requirement already satisfied: yarl<2.0,>=1.0 in /usr/local/lib/python3.10/dist-packages (from aiohttp<4.0.0,>=3.8.3->langchain) (1.9.4)\n",
            "Collecting marshmallow<4.0.0,>=3.18.0 (from dataclasses-json<0.7,>=0.5.7->langchain)\n",
            "  Downloading marshmallow-3.20.2-py3-none-any.whl (49 kB)\n",
            "\u001b[2K     \u001b[90m━━━━━━━━━━━━━━━━━━━━━━━━━━━━━━━━━━━━━━━━\u001b[0m \u001b[32m49.4/49.4 kB\u001b[0m \u001b[31m7.4 MB/s\u001b[0m eta \u001b[36m0:00:00\u001b[0m\n",
            "\u001b[?25hCollecting typing-inspect<1,>=0.4.0 (from dataclasses-json<0.7,>=0.5.7->langchain)\n",
            "  Downloading typing_inspect-0.9.0-py3-none-any.whl (8.8 kB)\n",
            "Requirement already satisfied: jsonpointer>=1.9 in /usr/local/lib/python3.10/dist-packages (from jsonpatch<2.0,>=1.33->langchain) (2.4)\n",
            "Requirement already satisfied: anyio<5,>=3 in /usr/local/lib/python3.10/dist-packages (from langchain-core<0.2,>=0.1.24->langchain) (3.7.1)\n",
            "Requirement already satisfied: packaging<24.0,>=23.2 in /usr/local/lib/python3.10/dist-packages (from langchain-core<0.2,>=0.1.24->langchain) (23.2)\n",
            "Requirement already satisfied: annotated-types>=0.4.0 in /usr/local/lib/python3.10/dist-packages (from pydantic<3,>=1->langchain) (0.6.0)\n",
            "Requirement already satisfied: pydantic-core==2.16.2 in /usr/local/lib/python3.10/dist-packages (from pydantic<3,>=1->langchain) (2.16.2)\n",
            "Requirement already satisfied: typing-extensions>=4.6.1 in /usr/local/lib/python3.10/dist-packages (from pydantic<3,>=1->langchain) (4.9.0)\n",
            "Requirement already satisfied: charset-normalizer<4,>=2 in /usr/local/lib/python3.10/dist-packages (from requests<3,>=2->langchainhub) (3.3.2)\n",
            "Requirement already satisfied: idna<4,>=2.5 in /usr/local/lib/python3.10/dist-packages (from requests<3,>=2->langchainhub) (3.6)\n",
            "Requirement already satisfied: urllib3<3,>=1.21.1 in /usr/local/lib/python3.10/dist-packages (from requests<3,>=2->langchainhub) (2.0.7)\n",
            "Requirement already satisfied: certifi>=2017.4.17 in /usr/local/lib/python3.10/dist-packages (from requests<3,>=2->langchainhub) (2024.2.2)\n",
            "Requirement already satisfied: greenlet!=0.4.17 in /usr/local/lib/python3.10/dist-packages (from SQLAlchemy<3,>=1.4->langchain) (3.0.3)\n",
            "Requirement already satisfied: sniffio>=1.1 in /usr/local/lib/python3.10/dist-packages (from anyio<5,>=3->langchain-core<0.2,>=0.1.24->langchain) (1.3.0)\n",
            "Requirement already satisfied: exceptiongroup in /usr/local/lib/python3.10/dist-packages (from anyio<5,>=3->langchain-core<0.2,>=0.1.24->langchain) (1.2.0)\n",
            "Collecting mypy-extensions>=0.3.0 (from typing-inspect<1,>=0.4.0->dataclasses-json<0.7,>=0.5.7->langchain)\n",
            "  Downloading mypy_extensions-1.0.0-py3-none-any.whl (4.7 kB)\n",
            "Installing collected packages: types-requests, mypy-extensions, marshmallow, typing-inspect, langchainhub, dataclasses-json, langchain-community, langchain\n",
            "Successfully installed dataclasses-json-0.6.4 langchain-0.1.8 langchain-community-0.0.21 langchainhub-0.1.14 marshmallow-3.20.2 mypy-extensions-1.0.0 types-requests-2.31.0.20240218 typing-inspect-0.9.0\n"
          ]
        }
      ]
    },
    {
      "cell_type": "code",
      "source": [
        "from langchain import hub\n",
        "from langchain.agents import AgentExecutor, create_openai_tools_agent\n",
        "from langchain_openai import ChatOpenAI"
      ],
      "metadata": {
        "id": "FXDdWjMrsIfD"
      },
      "execution_count": null,
      "outputs": []
    },
    {
      "cell_type": "code",
      "source": [
        "prompt = hub.pull(\"hwchase17/openai-tools-agent\")\n",
        "prompt.pretty_print()"
      ],
      "metadata": {
        "colab": {
          "base_uri": "https://localhost:8080/"
        },
        "id": "yQ5brVMesNo7",
        "outputId": "b14c6d56-1eb4-4b53-bee5-fb4ed6755b7b"
      },
      "execution_count": null,
      "outputs": [
        {
          "output_type": "stream",
          "name": "stdout",
          "text": [
            "================================\u001b[1m System Message \u001b[0m================================\n",
            "\n",
            "You are a helpful assistant\n",
            "\n",
            "=============================\u001b[1m Messages Placeholder \u001b[0m=============================\n",
            "\n",
            "\u001b[33;1m\u001b[1;3m{chat_history}\u001b[0m\n",
            "\n",
            "================================\u001b[1m Human Message \u001b[0m=================================\n",
            "\n",
            "\u001b[33;1m\u001b[1;3m{input}\u001b[0m\n",
            "\n",
            "=============================\u001b[1m Messages Placeholder \u001b[0m=============================\n",
            "\n",
            "\u001b[33;1m\u001b[1;3m{agent_scratchpad}\u001b[0m\n"
          ]
        }
      ]
    },
    {
      "cell_type": "code",
      "source": [
        "prompt[0].prompt.template = 'Your job is to perform math calculations using the perform_arithmetic function'\n",
        "prompt[0]"
      ],
      "metadata": {
        "colab": {
          "base_uri": "https://localhost:8080/"
        },
        "id": "Ezl3VFihsUil",
        "outputId": "bc3a3039-d6d7-4f3d-8965-c4c1170bd56f"
      },
      "execution_count": null,
      "outputs": [
        {
          "output_type": "execute_result",
          "data": {
            "text/plain": [
              "SystemMessagePromptTemplate(prompt=PromptTemplate(input_variables=[], template='Your job is to perform math calculations using the perform_arithmetic function'))"
            ]
          },
          "metadata": {},
          "execution_count": 17
        }
      ]
    },
    {
      "cell_type": "code",
      "source": [
        "prompt[1]"
      ],
      "metadata": {
        "id": "S8ZhaP2esb-h",
        "colab": {
          "base_uri": "https://localhost:8080/"
        },
        "outputId": "d1cb542a-903a-4923-eb24-28f4ba6d858c"
      },
      "execution_count": null,
      "outputs": [
        {
          "output_type": "execute_result",
          "data": {
            "text/plain": [
              "MessagesPlaceholder(variable_name='chat_history', optional=True)"
            ]
          },
          "metadata": {},
          "execution_count": 18
        }
      ]
    },
    {
      "cell_type": "code",
      "source": [
        "prompt[2]"
      ],
      "metadata": {
        "colab": {
          "base_uri": "https://localhost:8080/"
        },
        "id": "KttWIlF_tyxy",
        "outputId": "fbfa9045-243b-4c3f-c689-170eda75a170"
      },
      "execution_count": null,
      "outputs": [
        {
          "output_type": "execute_result",
          "data": {
            "text/plain": [
              "HumanMessagePromptTemplate(prompt=PromptTemplate(input_variables=['input'], template='{input}'))"
            ]
          },
          "metadata": {},
          "execution_count": 19
        }
      ]
    },
    {
      "cell_type": "code",
      "source": [
        "prompt[3]"
      ],
      "metadata": {
        "colab": {
          "base_uri": "https://localhost:8080/"
        },
        "id": "9yDE-NgZt0LU",
        "outputId": "04041c6d-34ab-46ea-dc62-a0430ceab389"
      },
      "execution_count": null,
      "outputs": [
        {
          "output_type": "execute_result",
          "data": {
            "text/plain": [
              "MessagesPlaceholder(variable_name='agent_scratchpad')"
            ]
          },
          "metadata": {},
          "execution_count": 20
        }
      ]
    },
    {
      "cell_type": "code",
      "source": [
        "model = ChatOpenAI(model=\"gpt-3.5-turbo-0125\", temperature=0)\n",
        "\n",
        "# Construct the OpenAI Tools agent\n",
        "agent = create_openai_tools_agent(model, tools, prompt)"
      ],
      "metadata": {
        "id": "kicSgF3it1kD"
      },
      "execution_count": null,
      "outputs": []
    },
    {
      "cell_type": "code",
      "source": [
        "# Create an agent executor by passing in the agent and tools\n",
        "agent_executor = AgentExecutor(agent=agent, tools=tools, verbose=True)"
      ],
      "metadata": {
        "id": "zZp34747ua8j"
      },
      "execution_count": null,
      "outputs": []
    },
    {
      "cell_type": "code",
      "source": [
        "agent_executor.invoke(\n",
        "    {\n",
        "        \"input\": \"what is ((910751 * 81301589) / 355) - 734872810242?\"\n",
        "    }\n",
        ")"
      ],
      "metadata": {
        "colab": {
          "base_uri": "https://localhost:8080/"
        },
        "id": "Vj7-pt7_uWDK",
        "outputId": "8c81581c-cf11-45d6-ba62-79345a1923f8"
      },
      "execution_count": null,
      "outputs": [
        {
          "output_type": "stream",
          "name": "stdout",
          "text": [
            "\n",
            "\n",
            "\u001b[1m> Entering new AgentExecutor chain...\u001b[0m\n",
            "\u001b[32;1m\u001b[1;3m\n",
            "Invoking: `perform_arithmetic` with `{'first_num': 910751, 'second_num': 81301589, 'operation': 'multiply'}`\n",
            "\n",
            "\n",
            "\u001b[0m\u001b[36;1m\u001b[1;3m74045503483339\u001b[0m\u001b[32;1m\u001b[1;3m\n",
            "Invoking: `perform_arithmetic` with `{'first_num': 74045503483339, 'second_num': 355, 'operation': 'divide'}`\n",
            "\n",
            "\n",
            "\u001b[0m\u001b[36;1m\u001b[1;3m208578883051.65915\u001b[0m\u001b[32;1m\u001b[1;3m\n",
            "Invoking: `perform_arithmetic` with `{'first_num': 208578883051, 'second_num': 734872810242, 'operation': 'subtract'}`\n",
            "\n",
            "\n",
            "\u001b[0m\u001b[36;1m\u001b[1;3m-526293927191\u001b[0m\u001b[32;1m\u001b[1;3mThe result of the expression ((910751 * 81301589) / 355) - 734872810242 is -526,293,927,191.\u001b[0m\n",
            "\n",
            "\u001b[1m> Finished chain.\u001b[0m\n"
          ]
        },
        {
          "output_type": "execute_result",
          "data": {
            "text/plain": [
              "{'input': 'what is ((910751 * 81301589) / 355) - 734872810242?',\n",
              " 'output': 'The result of the expression ((910751 * 81301589) / 355) - 734872810242 is -526,293,927,191.'}"
            ]
          },
          "metadata": {},
          "execution_count": 25
        }
      ]
    },
    {
      "cell_type": "markdown",
      "source": [
        "### Economics Chatbot"
      ],
      "metadata": {
        "id": "thSzFh--bNQV"
      }
    },
    {
      "cell_type": "code",
      "source": [
        "import requests\n",
        "import json\n",
        "\n",
        "@tool\n",
        "def pull_economic_data(economic_indicator, start_year, end_year):\n",
        "    \"\"\"\n",
        "    Pull historical economic data.\n",
        "\n",
        "    Args:\n",
        "        economic_indicator: Which economic indicator you would like to pull historical data on. This can be one of: CPI, PPI, or unemployment_rate\n",
        "        start_year: the start year of the date range over which you want to pull economic data\n",
        "        end_year: the end year of the date range over which you want to pull economic data\n",
        "    \"\"\"\n",
        "\n",
        "    # See this for series ids: https://data.bls.gov/cgi-bin/surveymost?bls\n",
        "    series_map = {'CPI': 'CUUR0000SA0',\n",
        "                  'PPI': 'WPUFD4',\n",
        "                  'unemployment_rate': 'LNS14000000'}\n",
        "\n",
        "    resp = requests.post(\n",
        "        url='https://api.bls.gov/publicAPI/v1/timeseries/data/',\n",
        "        data=json.dumps({'seriesid': [series_map.get(economic_indicator)], 'startyear': start_year, 'endyear': end_year}),\n",
        "        headers={'Content-type': 'application/json'}\n",
        "    )\n",
        "\n",
        "    data = json.loads(resp.text)\n",
        "\n",
        "    try:\n",
        "      # refine it\n",
        "      refined_data = []\n",
        "      for series in data['Results']['series']:\n",
        "        for item in series['data']:\n",
        "          refined_data.append(item)\n",
        "\n",
        "    except:\n",
        "      refined_data = []\n",
        "\n",
        "    return refined_data\n",
        "\n",
        "\n",
        "# params = {'economic_indicator': 'unemployment_rate', 'start_year': 2023, 'end_year': 2024}\n",
        "# data = pull_economic_data(economic_indicator=params['economic_indicator'], start_year='2015', end_year='2024')\n",
        "\n",
        "# for item in data[:5]:\n",
        "#   print(item)"
      ],
      "metadata": {
        "id": "6i2l_6HTueSQ"
      },
      "execution_count": null,
      "outputs": []
    },
    {
      "cell_type": "code",
      "source": [
        "from datetime import date\n",
        "\n",
        "prompt[0].prompt.template = f'Your job is to answer users economic questions by referencing economic data. Note that todays date is {str(date.today())}'\n",
        "prompt[0]"
      ],
      "metadata": {
        "colab": {
          "base_uri": "https://localhost:8080/"
        },
        "id": "QnRJFrmMbU_T",
        "outputId": "6e51d2e1-06c0-4874-8588-3873b124f2f0"
      },
      "execution_count": null,
      "outputs": [
        {
          "output_type": "execute_result",
          "data": {
            "text/plain": [
              "SystemMessagePromptTemplate(prompt=PromptTemplate(input_variables=[], template='Your job is to answer users economic questions by referencing economic data. Note that todays date is 2024-02-22'))"
            ]
          },
          "metadata": {},
          "execution_count": 29
        }
      ]
    },
    {
      "cell_type": "code",
      "source": [
        "model = ChatOpenAI(model=\"gpt-3.5-turbo-0125\", temperature=0)\n",
        "agent = create_openai_tools_agent(model, [pull_economic_data], prompt)\n",
        "agent_executor = AgentExecutor(agent=agent, tools=[pull_economic_data], verbose=True)"
      ],
      "metadata": {
        "id": "k7rEnF7VjMqA"
      },
      "execution_count": null,
      "outputs": []
    },
    {
      "cell_type": "code",
      "source": [
        "resp = agent_executor.invoke(\n",
        "    {\n",
        "        \"input\": \"Pull umemployment rate data for 2023 and 2024\"\n",
        "    }\n",
        ")"
      ],
      "metadata": {
        "colab": {
          "base_uri": "https://localhost:8080/"
        },
        "id": "8B-YbjXgjsTM",
        "outputId": "ce74fcc2-9a14-4a81-d390-94ba24d44632"
      },
      "execution_count": null,
      "outputs": [
        {
          "output_type": "stream",
          "name": "stdout",
          "text": [
            "\n",
            "\n",
            "\u001b[1m> Entering new AgentExecutor chain...\u001b[0m\n",
            "\u001b[32;1m\u001b[1;3m\n",
            "Invoking: `pull_economic_data` with `{'economic_indicator': 'unemployment_rate', 'start_year': 2023, 'end_year': 2024}`\n",
            "\n",
            "\n",
            "\u001b[0m\u001b[36;1m\u001b[1;3m[{'year': '2024', 'period': 'M01', 'periodName': 'January', 'latest': 'true', 'value': '3.7', 'footnotes': [{}]}, {'year': '2023', 'period': 'M12', 'periodName': 'December', 'value': '3.7', 'footnotes': [{}]}, {'year': '2023', 'period': 'M11', 'periodName': 'November', 'value': '3.7', 'footnotes': [{}]}, {'year': '2023', 'period': 'M10', 'periodName': 'October', 'value': '3.8', 'footnotes': [{}]}, {'year': '2023', 'period': 'M09', 'periodName': 'September', 'value': '3.8', 'footnotes': [{}]}, {'year': '2023', 'period': 'M08', 'periodName': 'August', 'value': '3.8', 'footnotes': [{}]}, {'year': '2023', 'period': 'M07', 'periodName': 'July', 'value': '3.5', 'footnotes': [{}]}, {'year': '2023', 'period': 'M06', 'periodName': 'June', 'value': '3.6', 'footnotes': [{}]}, {'year': '2023', 'period': 'M05', 'periodName': 'May', 'value': '3.7', 'footnotes': [{}]}, {'year': '2023', 'period': 'M04', 'periodName': 'April', 'value': '3.4', 'footnotes': [{}]}, {'year': '2023', 'period': 'M03', 'periodName': 'March', 'value': '3.5', 'footnotes': [{}]}, {'year': '2023', 'period': 'M02', 'periodName': 'February', 'value': '3.6', 'footnotes': [{}]}, {'year': '2023', 'period': 'M01', 'periodName': 'January', 'value': '3.4', 'footnotes': [{}]}]\u001b[0m\u001b[32;1m\u001b[1;3mThe unemployment rate data for 2023 and 2024 is as follows:\n",
            "\n",
            "- January 2023: 3.4%\n",
            "- February 2023: 3.6%\n",
            "- March 2023: 3.5%\n",
            "- April 2023: 3.4%\n",
            "- May 2023: 3.7%\n",
            "- June 2023: 3.6%\n",
            "- July 2023: 3.5%\n",
            "- August 2023: 3.8%\n",
            "- September 2023: 3.8%\n",
            "- October 2023: 3.8%\n",
            "- November 2023: 3.7%\n",
            "- December 2023: 3.7%\n",
            "- January 2024: 3.7%\n",
            "\n",
            "If you need more specific data or analysis, feel free to ask!\u001b[0m\n",
            "\n",
            "\u001b[1m> Finished chain.\u001b[0m\n"
          ]
        }
      ]
    },
    {
      "cell_type": "code",
      "source": [
        "print(resp['output'])"
      ],
      "metadata": {
        "colab": {
          "base_uri": "https://localhost:8080/"
        },
        "id": "FIOq3AJyj1bR",
        "outputId": "70f474e8-0a21-497e-83d4-baa46b6b80b6"
      },
      "execution_count": null,
      "outputs": [
        {
          "output_type": "stream",
          "name": "stdout",
          "text": [
            "The unemployment rate in the US for May 2023 was 3.7%.\n"
          ]
        }
      ]
    },
    {
      "cell_type": "code",
      "source": [],
      "metadata": {
        "id": "164-EwStlZ3h"
      },
      "execution_count": null,
      "outputs": []
    }
  ],
  "metadata": {
    "colab": {
      "provenance": []
    },
    "kernelspec": {
      "display_name": "Python 3",
      "name": "python3"
    },
    "language_info": {
      "name": "python"
    }
  },
  "nbformat": 4,
  "nbformat_minor": 0
}